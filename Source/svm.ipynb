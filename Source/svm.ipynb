{
 "cells": [
  {
   "cell_type": "code",
   "execution_count": 19,
   "metadata": {},
   "outputs": [],
   "source": [
    "import numpy as np\n",
    "import cv2\n",
    "import pandas as pd\n",
    "from sklearn.svm import SVC\n",
    "from sklearn.model_selection import GridSearchCV\n",
    "import matplotlib.pyplot as plt\n",
    "from sklearn.model_selection import train_test_split\n",
    "from sklearn.preprocessing import scale\n",
    "from prettytable import PrettyTable\n",
    "\n",
    "from sklearn.metrics import accuracy_score,classification_report, confusion_matrix, roc_curve, auc,f1_score,precision_score,recall_score,precision_recall_curve,matthews_corrcoef\n",
    "import glob,os,time,pdb,warnings,joblib\n",
    "warnings.filterwarnings('ignore')"
   ]
  },
  {
   "cell_type": "code",
   "execution_count": 20,
   "metadata": {},
   "outputs": [],
   "source": [
    "def get_split(samples, labels, test_size):\n",
    "    return train_test_split(samples, labels,test_size=test_size,random_state=40)\n",
    "\n",
    "def metric_accuracy(clf, X_train, y_train, X_test, y_test):\n",
    "    y_train_pred, y_test_pred = clf.predict(X_train), clf.predict(X_test)\n",
    "    print('Train Accuracy:', accuracy_score(y_train, y_train_pred),'\\nTest Accuracy:', accuracy_score(y_test, y_test_pred))\n",
    "\n",
    "def draw_roc(y_actual, scores, title=''):\n",
    "    fpr, tpr, thresholds = roc_curve(y_actual, scores, pos_label=1)\n",
    "    auroc_value = auc(fpr, tpr)\n",
    "\n",
    "    plt.plot(fpr,tpr, label = 'AUC: '+str(round(auroc_value, 4)))\n",
    "    plt.plot([0,1],[0,1],'k--')\n",
    "    plt.xlabel('FPR = 1-Specificity')\n",
    "    plt.ylabel(\"TPR = Recall = Sensitivity\")\n",
    "    plt.title(\"AUC-ROC Curve: \" + title)\n",
    "    plt.legend(loc = 'lower right')\n",
    "    plt.savefig(title+'-ROC')\n",
    "    return auroc_value\n",
    "    \n",
    "def metric(y_test, y_pred,scores, title=''):\n",
    "    tn, fp, fn, tp = confusion_matrix(y_test, y_pred).ravel()\n",
    "    specificity, acc, f1, precision, recall, mcc = tn/(tn + fp) ,accuracy_score(y_test, y_pred), f1_score(y_test, y_pred), precision_score(y_test, y_pred), recall_score(y_test, y_pred), matthews_corrcoef(y_test, y_pred)\n",
    "    \n",
    "    x,metric_list = PrettyTable(), []\n",
    "    \n",
    "    x.field_names = [\"Evaluation Metric\", \"Score\"]; \n",
    "    x.add_row([\"Accuracy\", round(acc, 4)]); metric_list.append([\"Accuracy\",round(acc, 4)])\n",
    "    x.add_row([\"F1-score\", round(f1, 4)]); metric_list.append(['F1-score',round(f1, 4)])\n",
    "    x.add_row([\"Precision\", round(precision, 4)]); metric_list.append(['Precision', round(precision, 4)])\n",
    "    x.add_row([\"Recall\", round(recall, 4)]); metric_list.append([\"Recall\", round(recall, 4)])\n",
    "    x.add_row([\"Specificity\", round(specificity, 4)]); metric_list.append([\"Specificity\", round(specificity, 4)])\n",
    "    x.add_row([\"MCC\", round(mcc, 4)]); metric_list.append([\"MCC\", round(mcc, 4)])\n",
    "    \n",
    "    auroc_value = draw_roc(y_test,scores, title)\n",
    "    x.add_row([\"AUROC value\", round(auroc_value, 4)]); metric_list.append([\"AUROC value\", round(auroc_value, 4)])\n",
    "    \n",
    "    print(x);plt.show()\n",
    "    print('--------------------------------------------------------------\\n\\n\\n')\n",
    "    return metric_list"
   ]
  },
  {
   "cell_type": "code",
   "execution_count": 5,
   "metadata": {},
   "outputs": [
    {
     "name": "stdout",
     "output_type": "stream",
     "text": [
      "dataset/PlantVillage/train\\Apple___Apple_scab\n",
      "dataset/PlantVillage/train\\Apple___Black_rot\n",
      "dataset/PlantVillage/train\\Apple___Cedar_apple_rust\n",
      "dataset/PlantVillage/train\\Apple___healthy\n",
      "dataset/PlantVillage/train\\background\n",
      "dataset/PlantVillage/train\\Blueberry___healthy\n",
      "dataset/PlantVillage/train\\Cherry_(including_sour)___healthy\n",
      "dataset/PlantVillage/train\\Cherry_(including_sour)___Powdery_mildew\n",
      "dataset/PlantVillage/train\\Corn_(maize)___Cercospora_leaf_spot Gray_leaf_spot\n",
      "dataset/PlantVillage/train\\Corn_(maize)___Common_rust_\n",
      "dataset/PlantVillage/train\\Corn_(maize)___healthy\n",
      "dataset/PlantVillage/train\\Corn_(maize)___Northern_Leaf_Blight\n",
      "dataset/PlantVillage/train\\Grape___Black_rot\n",
      "dataset/PlantVillage/train\\Grape___Esca_(Black_Measles)\n",
      "dataset/PlantVillage/train\\Grape___healthy\n",
      "dataset/PlantVillage/train\\Grape___Leaf_blight_(Isariopsis_Leaf_Spot)\n",
      "dataset/PlantVillage/train\\Orange___Haunglongbing_(Citrus_greening)\n",
      "dataset/PlantVillage/train\\Peach___Bacterial_spot\n",
      "dataset/PlantVillage/train\\Peach___healthy\n",
      "dataset/PlantVillage/train\\Pepper,_bell___Bacterial_spot\n",
      "dataset/PlantVillage/train\\Pepper,_bell___healthy\n",
      "dataset/PlantVillage/train\\Potato___Early_blight\n",
      "dataset/PlantVillage/train\\Potato___healthy\n",
      "dataset/PlantVillage/train\\Potato___Late_blight\n",
      "dataset/PlantVillage/train\\Raspberry___healthy\n",
      "dataset/PlantVillage/train\\Soybean___healthy\n",
      "dataset/PlantVillage/train\\Squash___Powdery_mildew\n",
      "dataset/PlantVillage/train\\Strawberry___healthy\n",
      "dataset/PlantVillage/train\\Strawberry___Leaf_scorch\n",
      "dataset/PlantVillage/train\\Tomato___Bacterial_spot\n",
      "dataset/PlantVillage/train\\Tomato___Early_blight\n",
      "dataset/PlantVillage/train\\Tomato___healthy\n",
      "dataset/PlantVillage/train\\Tomato___Late_blight\n",
      "dataset/PlantVillage/train\\Tomato___Leaf_Mold\n",
      "dataset/PlantVillage/train\\Tomato___Septoria_leaf_spot\n",
      "dataset/PlantVillage/train\\Tomato___Spider_mites Two-spotted_spider_mite\n",
      "dataset/PlantVillage/train\\Tomato___Target_Spot\n",
      "dataset/PlantVillage/train\\Tomato___Tomato_mosaic_virus\n",
      "dataset/PlantVillage/train\\Tomato___Tomato_Yellow_Leaf_Curl_Virus\n",
      "44016 44016\n"
     ]
    }
   ],
   "source": [
    "path = 'dataset/PlantVillage/train'\n",
    "X_files, y_class=[], []\n",
    "class_number = 0\n",
    "for dire in glob.glob(os.path.join(path, '*')):\n",
    "    print(dire)\n",
    "    for filename in glob.glob(os.path.join(dire, '*')):\n",
    "        if('.info' in filename):\n",
    "            continue\n",
    "        st=filename.split('\\\\')\n",
    "        s=st[0]+'/'+st[1]+'/'+st[2]\n",
    "        X_files.append(s)\n",
    "#         y_class.append(dire)\n",
    "        y_class.append(class_number)\n",
    "    class_number +=1\n",
    "print(len(X_files),len(y_class))"
   ]
  },
  {
   "cell_type": "code",
   "execution_count": 7,
   "metadata": {},
   "outputs": [],
   "source": [
    "X_data = []\n",
    "for name in X_files:\n",
    "    img = cv2.imread(r''+name,cv2.COLOR_BGR2GRAY) #converting to gray scale img\n",
    "    img_resized = cv2.resize(img,(28,28),interpolation = cv2.INTER_AREA)\n",
    "    X_data.append(img_resized)\n",
    "#     X_data.append(img)\n",
    "\n",
    "X_ravel = []\n",
    "for i in X_data:\n",
    "    ravel = i.ravel()\n",
    "    X_ravel.append(ravel)\n",
    "X_ravel = np.asarray(X_ravel)"
   ]
  },
  {
   "cell_type": "code",
   "execution_count": 8,
   "metadata": {},
   "outputs": [
    {
     "data": {
      "text/plain": [
       "(44016, 2352)"
      ]
     },
     "execution_count": 8,
     "metadata": {},
     "output_type": "execute_result"
    }
   ],
   "source": [
    "X_ravel.shape"
   ]
  },
  {
   "cell_type": "code",
   "execution_count": 9,
   "metadata": {},
   "outputs": [
    {
     "data": {
      "text/plain": [
       "<matplotlib.image.AxesImage at 0x1787ff95320>"
      ]
     },
     "execution_count": 9,
     "metadata": {},
     "output_type": "execute_result"
    },
    {
     "data": {
      "image/png": "[encoded data removed]",
      "text/plain": [
       "<Figure size 432x288 with 1 Axes>"
      ]
     },
     "metadata": {
      "needs_background": "light"
     },
     "output_type": "display_data"
    }
   ],
   "source": [
    "plt.imshow(X_data[0])"
   ]
  },
  {
   "cell_type": "code",
   "execution_count": 10,
   "metadata": {},
   "outputs": [
    {
     "data": {
      "text/plain": [
       "(35212, 8804, 35212, 8804)"
      ]
     },
     "execution_count": 10,
     "metadata": {},
     "output_type": "execute_result"
    }
   ],
   "source": [
    "test_size=0.2\n",
    "X_scale = scale(X_ravel)\n",
    "X_train_scale, X_test_scale, y_train, y_test = get_split(X_scale,y_class,test_size)\n",
    "\n",
    "len(X_train_scale), len(X_test_scale) , len(y_train), len(y_test)"
   ]
  },
  {
   "cell_type": "markdown",
   "metadata": {},
   "source": [
    "### SVM"
   ]
  },
  {
   "cell_type": "code",
   "execution_count": 23,
   "metadata": {},
   "outputs": [
    {
     "data": {
      "text/plain": [
       "SVC(C=1.0, cache_size=200, class_weight=None, coef0=0.0,\n",
       "  decision_function_shape='ovr', degree=3, gamma='auto_deprecated',\n",
       "  kernel='rbf', max_iter=-1, probability=True, random_state=None,\n",
       "  shrinking=True, tol=0.001, verbose=False)"
      ]
     },
     "execution_count": 23,
     "metadata": {},
     "output_type": "execute_result"
    }
   ],
   "source": [
    "model = SVC(kernel='rbf',probability=True)\n",
    "\n",
    "model.fit(X_train_scale,y_train)"
   ]
  },
  {
   "cell_type": "markdown",
   "metadata": {},
   "source": [
    "### Metrics"
   ]
  },
  {
   "cell_type": "code",
   "execution_count": null,
   "metadata": {},
   "outputs": [],
   "source": [
    "joblib.dump(model, 'svm.sav')"
   ]
  },
  {
   "cell_type": "code",
   "execution_count": 25,
   "metadata": {},
   "outputs": [
    {
     "ename": "KeyboardInterrupt",
     "evalue": "",
     "output_type": "error",
     "traceback": [
      "\u001b[1;31m---------------------------------------------------------------------------\u001b[0m",
      "\u001b[1;31mKeyboardInterrupt\u001b[0m                         Traceback (most recent call last)",
      "\u001b[1;32m<ipython-input-25-1e8f632cc438>\u001b[0m in \u001b[0;36m<module>\u001b[1;34m\u001b[0m\n\u001b[1;32m----> 1\u001b[1;33m \u001b[0my_pred_train\u001b[0m \u001b[1;33m=\u001b[0m \u001b[0mmodel\u001b[0m\u001b[1;33m.\u001b[0m\u001b[0mpredict\u001b[0m\u001b[1;33m(\u001b[0m\u001b[0mX_train_scale\u001b[0m\u001b[1;33m)\u001b[0m\u001b[1;33m\u001b[0m\u001b[1;33m\u001b[0m\u001b[0m\n\u001b[0m\u001b[0;32m      2\u001b[0m \u001b[1;33m\u001b[0m\u001b[0m\n\u001b[0;32m      3\u001b[0m \u001b[0maccuracy_score\u001b[0m\u001b[1;33m(\u001b[0m\u001b[0my_pred_train\u001b[0m\u001b[1;33m,\u001b[0m\u001b[0my_train\u001b[0m\u001b[1;33m)\u001b[0m\u001b[1;33m\u001b[0m\u001b[1;33m\u001b[0m\u001b[0m\n",
      "\u001b[1;32mC:\\ProgramData\\Anaconda3\\lib\\site-packages\\sklearn\\svm\\base.py\u001b[0m in \u001b[0;36mpredict\u001b[1;34m(self, X)\u001b[0m\n\u001b[0;32m    565\u001b[0m             \u001b[0mClass\u001b[0m \u001b[0mlabels\u001b[0m \u001b[1;32mfor\u001b[0m \u001b[0msamples\u001b[0m \u001b[1;32min\u001b[0m \u001b[0mX\u001b[0m\u001b[1;33m.\u001b[0m\u001b[1;33m\u001b[0m\u001b[1;33m\u001b[0m\u001b[0m\n\u001b[0;32m    566\u001b[0m         \"\"\"\n\u001b[1;32m--> 567\u001b[1;33m         \u001b[0my\u001b[0m \u001b[1;33m=\u001b[0m \u001b[0msuper\u001b[0m\u001b[1;33m(\u001b[0m\u001b[0mBaseSVC\u001b[0m\u001b[1;33m,\u001b[0m \u001b[0mself\u001b[0m\u001b[1;33m)\u001b[0m\u001b[1;33m.\u001b[0m\u001b[0mpredict\u001b[0m\u001b[1;33m(\u001b[0m\u001b[0mX\u001b[0m\u001b[1;33m)\u001b[0m\u001b[1;33m\u001b[0m\u001b[1;33m\u001b[0m\u001b[0m\n\u001b[0m\u001b[0;32m    568\u001b[0m         \u001b[1;32mreturn\u001b[0m \u001b[0mself\u001b[0m\u001b[1;33m.\u001b[0m\u001b[0mclasses_\u001b[0m\u001b[1;33m.\u001b[0m\u001b[0mtake\u001b[0m\u001b[1;33m(\u001b[0m\u001b[0mnp\u001b[0m\u001b[1;33m.\u001b[0m\u001b[0masarray\u001b[0m\u001b[1;33m(\u001b[0m\u001b[0my\u001b[0m\u001b[1;33m,\u001b[0m \u001b[0mdtype\u001b[0m\u001b[1;33m=\u001b[0m\u001b[0mnp\u001b[0m\u001b[1;33m.\u001b[0m\u001b[0mintp\u001b[0m\u001b[1;33m)\u001b[0m\u001b[1;33m)\u001b[0m\u001b[1;33m\u001b[0m\u001b[1;33m\u001b[0m\u001b[0m\n\u001b[0;32m    569\u001b[0m \u001b[1;33m\u001b[0m\u001b[0m\n",
      "\u001b[1;32mC:\\ProgramData\\Anaconda3\\lib\\site-packages\\sklearn\\svm\\base.py\u001b[0m in \u001b[0;36mpredict\u001b[1;34m(self, X)\u001b[0m\n\u001b[0;32m    325\u001b[0m         \u001b[0mX\u001b[0m \u001b[1;33m=\u001b[0m \u001b[0mself\u001b[0m\u001b[1;33m.\u001b[0m\u001b[0m_validate_for_predict\u001b[0m\u001b[1;33m(\u001b[0m\u001b[0mX\u001b[0m\u001b[1;33m)\u001b[0m\u001b[1;33m\u001b[0m\u001b[1;33m\u001b[0m\u001b[0m\n\u001b[0;32m    326\u001b[0m         \u001b[0mpredict\u001b[0m \u001b[1;33m=\u001b[0m \u001b[0mself\u001b[0m\u001b[1;33m.\u001b[0m\u001b[0m_sparse_predict\u001b[0m \u001b[1;32mif\u001b[0m \u001b[0mself\u001b[0m\u001b[1;33m.\u001b[0m\u001b[0m_sparse\u001b[0m \u001b[1;32melse\u001b[0m \u001b[0mself\u001b[0m\u001b[1;33m.\u001b[0m\u001b[0m_dense_predict\u001b[0m\u001b[1;33m\u001b[0m\u001b[1;33m\u001b[0m\u001b[0m\n\u001b[1;32m--> 327\u001b[1;33m         \u001b[1;32mreturn\u001b[0m \u001b[0mpredict\u001b[0m\u001b[1;33m(\u001b[0m\u001b[0mX\u001b[0m\u001b[1;33m)\u001b[0m\u001b[1;33m\u001b[0m\u001b[1;33m\u001b[0m\u001b[0m\n\u001b[0m\u001b[0;32m    328\u001b[0m \u001b[1;33m\u001b[0m\u001b[0m\n\u001b[0;32m    329\u001b[0m     \u001b[1;32mdef\u001b[0m \u001b[0m_dense_predict\u001b[0m\u001b[1;33m(\u001b[0m\u001b[0mself\u001b[0m\u001b[1;33m,\u001b[0m \u001b[0mX\u001b[0m\u001b[1;33m)\u001b[0m\u001b[1;33m:\u001b[0m\u001b[1;33m\u001b[0m\u001b[1;33m\u001b[0m\u001b[0m\n",
      "\u001b[1;32mC:\\ProgramData\\Anaconda3\\lib\\site-packages\\sklearn\\svm\\base.py\u001b[0m in \u001b[0;36m_dense_predict\u001b[1;34m(self, X)\u001b[0m\n\u001b[0;32m    348\u001b[0m             \u001b[0mself\u001b[0m\u001b[1;33m.\u001b[0m\u001b[0mprobA_\u001b[0m\u001b[1;33m,\u001b[0m \u001b[0mself\u001b[0m\u001b[1;33m.\u001b[0m\u001b[0mprobB_\u001b[0m\u001b[1;33m,\u001b[0m \u001b[0msvm_type\u001b[0m\u001b[1;33m=\u001b[0m\u001b[0msvm_type\u001b[0m\u001b[1;33m,\u001b[0m \u001b[0mkernel\u001b[0m\u001b[1;33m=\u001b[0m\u001b[0mkernel\u001b[0m\u001b[1;33m,\u001b[0m\u001b[1;33m\u001b[0m\u001b[1;33m\u001b[0m\u001b[0m\n\u001b[0;32m    349\u001b[0m             \u001b[0mdegree\u001b[0m\u001b[1;33m=\u001b[0m\u001b[0mself\u001b[0m\u001b[1;33m.\u001b[0m\u001b[0mdegree\u001b[0m\u001b[1;33m,\u001b[0m \u001b[0mcoef0\u001b[0m\u001b[1;33m=\u001b[0m\u001b[0mself\u001b[0m\u001b[1;33m.\u001b[0m\u001b[0mcoef0\u001b[0m\u001b[1;33m,\u001b[0m \u001b[0mgamma\u001b[0m\u001b[1;33m=\u001b[0m\u001b[0mself\u001b[0m\u001b[1;33m.\u001b[0m\u001b[0m_gamma\u001b[0m\u001b[1;33m,\u001b[0m\u001b[1;33m\u001b[0m\u001b[1;33m\u001b[0m\u001b[0m\n\u001b[1;32m--> 350\u001b[1;33m             cache_size=self.cache_size)\n\u001b[0m\u001b[0;32m    351\u001b[0m \u001b[1;33m\u001b[0m\u001b[0m\n\u001b[0;32m    352\u001b[0m     \u001b[1;32mdef\u001b[0m \u001b[0m_sparse_predict\u001b[0m\u001b[1;33m(\u001b[0m\u001b[0mself\u001b[0m\u001b[1;33m,\u001b[0m \u001b[0mX\u001b[0m\u001b[1;33m)\u001b[0m\u001b[1;33m:\u001b[0m\u001b[1;33m\u001b[0m\u001b[1;33m\u001b[0m\u001b[0m\n",
      "\u001b[1;31mKeyboardInterrupt\u001b[0m: "
     ]
    }
   ],
   "source": [
    "y_pred_train = model.predict(X_train_scale)\n",
    "\n",
    "accuracy_score(y_pred_train,y_train)"
   ]
  },
  {
   "cell_type": "code",
   "execution_count": null,
   "metadata": {},
   "outputs": [],
   "source": [
    "print(classification_report(y_pred_train, y_train))"
   ]
  },
  {
   "cell_type": "markdown",
   "metadata": {},
   "source": [
    "### Metrics"
   ]
  },
  {
   "cell_type": "code",
   "execution_count": null,
   "metadata": {},
   "outputs": [],
   "source": [
    "y_train_pred, y_test_pred = model.predict(X_train_scale), model.predict(X_test_scale)"
   ]
  },
  {
   "cell_type": "code",
   "execution_count": null,
   "metadata": {},
   "outputs": [],
   "source": [
    "train_scores, test_scores = model.predict_proba(X_train_scale)[:,1], model.predict_proba(X_test_scale)[:,1]"
   ]
  },
  {
   "cell_type": "code",
   "execution_count": null,
   "metadata": {},
   "outputs": [],
   "source": [
    "print('SVM(kernel=RBF) classifier')\n",
    "linear_svm_metric_list_train, linear_metric_list_test = metric(y_train, y_train_pred, train_scores, 'SVM(Train metrics)'),\\\n",
    "                                                        metric(y_test, y_test_pred, test_scores, 'SVM (Test metrics)')"
   ]
  },
  {
   "cell_type": "code",
   "execution_count": null,
   "metadata": {},
   "outputs": [],
   "source": []
  },
  {
   "cell_type": "code",
   "execution_count": null,
   "metadata": {},
   "outputs": [],
   "source": []
  },
  {
   "cell_type": "code",
   "execution_count": null,
   "metadata": {},
   "outputs": [],
   "source": []
  },
  {
   "cell_type": "markdown",
   "metadata": {},
   "source": [
    "### Test"
   ]
  },
  {
   "cell_type": "code",
   "execution_count": 13,
   "metadata": {},
   "outputs": [
    {
     "data": {
      "text/plain": [
       "0.8316375968992248"
      ]
     },
     "execution_count": 13,
     "metadata": {},
     "output_type": "execute_result"
    }
   ],
   "source": [
    "y_pred = model.predict(X_test_scale)\n",
    "\n",
    "accuracy_score(y_pred,y_test)"
   ]
  },
  {
   "cell_type": "code",
   "execution_count": 16,
   "metadata": {},
   "outputs": [
    {
     "name": "stdout",
     "output_type": "stream",
     "text": [
      "              precision    recall  f1-score   support\n",
      "\n",
      "           0       0.71      0.79      0.75       190\n",
      "           1       0.91      0.89      0.90       307\n",
      "           2       0.91      0.85      0.88       195\n",
      "           3       0.40      0.91      0.56        11\n",
      "           4       0.74      0.76      0.75       172\n",
      "           5       0.91      0.85      0.88       462\n",
      "           6       0.43      0.63      0.51       137\n",
      "           7       0.98      0.94      0.96       343\n",
      "           8       0.77      0.74      0.76       400\n",
      "           9       0.76      0.83      0.79       185\n",
      "          10       0.78      0.76      0.77       380\n",
      "          11       0.88      0.80      0.84       366\n",
      "          12       0.80      0.82      0.81       271\n",
      "          13       0.72      0.81      0.76        63\n",
      "          14       0.94      0.92      0.93       646\n",
      "\n",
      "   micro avg       0.83      0.83      0.83      4128\n",
      "   macro avg       0.78      0.82      0.79      4128\n",
      "weighted avg       0.84      0.83      0.84      4128\n",
      "\n"
     ]
    }
   ],
   "source": [
    "print(classification_report(y_pred, y_test))"
   ]
  },
  {
   "cell_type": "code",
   "execution_count": 19,
   "metadata": {},
   "outputs": [
    {
     "name": "stdout",
     "output_type": "stream",
     "text": [
      "(array([0.78947368, 0.89250814, 0.84615385, 0.90909091, 0.75581395,\n",
      "       0.85281385, 0.62773723, 0.94169096, 0.7425    , 0.83243243,\n",
      "       0.76052632, 0.80327869, 0.81549815, 0.80952381, 0.92105263]), array([0.71090047, 0.91333333, 0.90659341, 0.4       , 0.73863636,\n",
      "       0.91203704, 0.42574257, 0.97878788, 0.7734375 , 0.75862069,\n",
      "       0.78108108, 0.88288288, 0.79783394, 0.71830986, 0.9414557 ]), array([0.74812968, 0.90280066, 0.87533156, 0.55555556, 0.74712644,\n",
      "       0.88143177, 0.50737463, 0.95988113, 0.75765306, 0.79381443,\n",
      "       0.77066667, 0.84120172, 0.80656934, 0.76119403, 0.93114241]), array([211, 300, 182,  25, 176, 432, 202, 330, 384, 203, 370, 333, 277,\n",
      "        71, 632], dtype=int64))\n"
     ]
    }
   ],
   "source": [
    "print(precision_recall_fscore_support(y_test, y_pred))"
   ]
  },
  {
   "cell_type": "code",
   "execution_count": 23,
   "metadata": {},
   "outputs": [
    {
     "name": "stdout",
     "output_type": "stream",
     "text": [
      "[0.78947368 0.89250814 0.84615385 0.90909091 0.75581395 0.85281385\n",
      " 0.62773723 0.94169096 0.7425     0.83243243 0.76052632 0.80327869\n",
      " 0.81549815 0.80952381 0.92105263]\n"
     ]
    }
   ],
   "source": [
    "print(precision_score(y_test, y_pred,average=None))"
   ]
  },
  {
   "cell_type": "code",
   "execution_count": 24,
   "metadata": {},
   "outputs": [
    {
     "name": "stdout",
     "output_type": "stream",
     "text": [
      "[0.71090047 0.91333333 0.90659341 0.4        0.73863636 0.91203704\n",
      " 0.42574257 0.97878788 0.7734375  0.75862069 0.78108108 0.88288288\n",
      " 0.79783394 0.71830986 0.9414557 ]\n"
     ]
    }
   ],
   "source": [
    "print(recall_score(y_test, y_pred,average=None))"
   ]
  },
  {
   "cell_type": "code",
   "execution_count": null,
   "metadata": {},
   "outputs": [],
   "source": []
  }
 ],
 "metadata": {
  "kernelspec": {
   "display_name": "Python 3",
   "language": "python",
   "name": "python3"
  },
  "language_info": {
   "codemirror_mode": {
    "name": "ipython",
    "version": 3
   },
   "file_extension": ".py",
   "mimetype": "text/x-python",
   "name": "python",
   "nbconvert_exporter": "python",
   "pygments_lexer": "ipython3",
   "version": "3.7.1"
  }
 },
 "nbformat": 4,
 "nbformat_minor": 2
}

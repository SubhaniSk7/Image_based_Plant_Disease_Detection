{
 "cells": [
  {
   "cell_type": "code",
   "execution_count": 55,
   "metadata": {},
   "outputs": [],
   "source": [
    "from tqdm import tqdm\n",
    "import numpy as np\n",
    "import torch\n",
    "import torchvision\n",
    "import torch.nn as nn\n",
    "import torch.optim as optim\n",
    "import torch.nn.functional as F"
   ]
  },
  {
   "cell_type": "code",
   "execution_count": 124,
   "metadata": {},
   "outputs": [],
   "source": [
    "transform = torchvision.transforms.Compose([torchvision.transforms.Resize((224,224)),\n",
    "                                            torchvision.transforms.ToTensor(),\n",
    "                                            torchvision.transforms.Normalize((0.5, 0.5, 0.5), (0.5, 0.5, 0.5))])\n",
    "\n",
    "trainset2 = torchvision.datasets.ImageFolder(root='d1', transform=transform)\n",
    "trainset1 = torchvision.datasets.ImageFolder(root='d2', transform=transform)"
   ]
  },
  {
   "cell_type": "code",
   "execution_count": 210,
   "metadata": {},
   "outputs": [],
   "source": [
    "trainloader1 = torch.utils.data.DataLoader(trainset1, batch_size=2, shuffle=False, pin_memory=True)\n",
    "trainloader2 = torch.utils.data.DataLoader(trainset2, batch_size=2, shuffle=False, pin_memory=True)\n",
    "\n",
    "testset = torchvision.datasets.ImageFolder(root='test_demo', transform=transform)\n",
    "testloader = torch.utils.data.DataLoader(testset, batch_size=1, shuffle=False)"
   ]
  },
  {
   "cell_type": "code",
   "execution_count": 185,
   "metadata": {},
   "outputs": [],
   "source": [
    "device = torch.device(\"cuda:0\" if torch.cuda.is_available() else \"cpu\")"
   ]
  },
  {
   "cell_type": "code",
   "execution_count": 200,
   "metadata": {},
   "outputs": [
    {
     "data": {
      "text/plain": [
       "AlexNet(\n",
       "  (features): Sequential(\n",
       "    (0): Conv2d(3, 64, kernel_size=(11, 11), stride=(4, 4), padding=(2, 2))\n",
       "    (1): ReLU(inplace=True)\n",
       "    (2): MaxPool2d(kernel_size=3, stride=2, padding=0, dilation=1, ceil_mode=False)\n",
       "    (3): Conv2d(64, 192, kernel_size=(5, 5), stride=(1, 1), padding=(2, 2))\n",
       "    (4): ReLU(inplace=True)\n",
       "    (5): MaxPool2d(kernel_size=3, stride=2, padding=0, dilation=1, ceil_mode=False)\n",
       "    (6): Conv2d(192, 384, kernel_size=(3, 3), stride=(1, 1), padding=(1, 1))\n",
       "    (7): ReLU(inplace=True)\n",
       "    (8): Conv2d(384, 256, kernel_size=(3, 3), stride=(1, 1), padding=(1, 1))\n",
       "    (9): ReLU(inplace=True)\n",
       "    (10): Conv2d(256, 256, kernel_size=(3, 3), stride=(1, 1), padding=(1, 1))\n",
       "    (11): ReLU(inplace=True)\n",
       "    (12): MaxPool2d(kernel_size=3, stride=2, padding=0, dilation=1, ceil_mode=False)\n",
       "  )\n",
       "  (avgpool): AdaptiveAvgPool2d(output_size=(6, 6))\n",
       "  (classifier): Net(\n",
       "    (fc1): Linear(in_features=9216, out_features=1024, bias=True)\n",
       "    (fc2): Linear(in_features=1024, out_features=256, bias=True)\n",
       "    (fc3): Linear(in_features=256, out_features=39, bias=True)\n",
       "    (dropout): Dropout(p=0.2, inplace=False)\n",
       "  )\n",
       ")"
      ]
     },
     "execution_count": 200,
     "metadata": {},
     "output_type": "execute_result"
    }
   ],
   "source": [
    "class Net(nn.Module):\n",
    "    \n",
    "    def __init__(self):\n",
    "        super(Net, self).__init__()\n",
    "        n_classes = 39\n",
    "        \n",
    "        hidden_1 = 1024\n",
    "        hidden_2 = 256\n",
    "        \n",
    "        self.fc1 = nn.Linear(9216, hidden_1)\n",
    "        self.fc2 = nn.Linear(hidden_1, hidden_2)\n",
    "        self.fc3 = nn.Linear(hidden_2, n_classes)\n",
    "        \n",
    "        self.dropout = nn.Dropout(0.2)\n",
    "\n",
    "    def forward(self, x):\n",
    "        x = x.view(-1, 9216)\n",
    "        \n",
    "        y = F.relu(self.fc1(x))\n",
    "        y = self.dropout(y)\n",
    "        y = F.relu(self.fc2(y))\n",
    "        y = self.dropout(y)\n",
    "        y = self.fc3(y)\n",
    "        \n",
    "        z = F.relu(self.fc1(x))\n",
    "        z = self.dropout(z)\n",
    "        z = F.relu(self.fc2(z))\n",
    "        z = self.dropout(z)\n",
    "        z = self.fc3(z)\n",
    "        \n",
    "        return y,z\n",
    "\n",
    "net = torchvision.models.alexnet(pretrained=True)\n",
    "\n",
    "for param in net.parameters():\n",
    "    param.requires_grad = False\n",
    "net.classifier = Net()\n",
    "net.to(device)"
   ]
  },
  {
   "cell_type": "code",
   "execution_count": 201,
   "metadata": {},
   "outputs": [],
   "source": [
    "# net = torchvision.models.alexnet(pretrained=False)\n",
    "# net = net.to(device)"
   ]
  },
  {
   "cell_type": "code",
   "execution_count": 202,
   "metadata": {},
   "outputs": [],
   "source": [
    "criterion = nn.CrossEntropyLoss()\n",
    "optimizer = optim.SGD(net.parameters(), lr=1e-2)"
   ]
  },
  {
   "cell_type": "code",
   "execution_count": 211,
   "metadata": {},
   "outputs": [
    {
     "name": "stdout",
     "output_type": "stream",
     "text": [
      "tensor([1], device='cuda:0') tensor([1], device='cuda:0')\n",
      "tensor([2], device='cuda:0') tensor([2], device='cuda:0')\n",
      "tensor([3], device='cuda:0') tensor([4], device='cuda:0')\n"
     ]
    }
   ],
   "source": [
    "valid_loss_min=np.Inf\n",
    "train_loss_plt=[]\n",
    "valid_loss_plt = []\n",
    "valid_accuracy_plt=[]\n",
    "valid_loss = []\n",
    "for epoch in range(1):\n",
    "    train_loss=0\n",
    "    valid_loss=0\n",
    "    \n",
    "#     net.train()\n",
    "#     for (data1, data2) in zip(trainloader1, trainloader2):\n",
    "#         images, labels1 = data1\n",
    "#         _, labels2 = data2\n",
    "#         images, labels1 = images.to(device), labels1.to(device)\n",
    "#         labels2 = labels2.to(device)\n",
    "#         optimizer.zero_grad()\n",
    "#         output1, output2 = net(images)\n",
    "#         loss_leaf = criterion(output1, labels1)\n",
    "#         loss_disease = criterion(output2, labels2)\n",
    "#         loss_leaf.backward()\n",
    "#         loss_disease.backward()\n",
    "#         optimizer.step()\n",
    "#         train_loss += loss_disease.item() * images.size(0)\n",
    "    \n",
    "    net.eval()\n",
    "    for images, labels in testloader:\n",
    "        images, labels= images.cuda(), labels.cuda()\n",
    "        output, _ = net(images)\n",
    "        _, pred = torch.max(output,1)\n",
    "        print (labels, pred+1)\n",
    "        ps=torch.exp(output)\n",
    "        loss = criterion(output, labels)\n",
    "        valid_loss += loss.item() * images.size(0)\n",
    "        \n",
    "    train_loss /= len(trainloader1)\n",
    "    valid_loss /= len(testloader)\n",
    "    train_loss_plt.append(train_loss)\n",
    "    valid_loss_plt.append(valid_loss)\n",
    "\n",
    "    #print('Epoch: {} \\tTraining Loss: {:.6f}'.format(epoch+1, train_loss))"
   ]
  },
  {
   "cell_type": "markdown",
   "metadata": {},
   "source": [
    "<!-- # import joblib\n",
    "joblib.dump(train_loss_plt, 't.joblib')\n",
    "joblib.dump(valid_loss_plt, 'v.joblib') -->"
   ]
  },
  {
   "cell_type": "code",
   "execution_count": 160,
   "metadata": {},
   "outputs": [
    {
     "data": {
      "image/png": "[encoded data removed]",
      "text/plain": [
       "<Figure size 432x288 with 1 Axes>"
      ]
     },
     "metadata": {
      "needs_background": "light"
     },
     "output_type": "display_data"
    }
   ],
   "source": [
    "import matplotlib.pyplot as plt\n",
    "plt.plot(np.arange(len(train_loss_plt)), train_loss_plt,label='Train')\n",
    "plt.title('Loss Plot')\n",
    "plt.xlabel('Epochs')\n",
    "plt.ylabel('CE Loss')\n",
    "# plt.legend()\n",
    "# plt.show()\n",
    "plt.plot(np.arange(len(valid_loss_plt)),valid_loss_plt,label='Valid',color='r')\n",
    "# plt.title('Validation Loss')\n",
    "# plt.xlabel('Epochs')\n",
    "# plt.ylabel('CE Loss')\n",
    "plt.legend()\n",
    "plt.show()"
   ]
  },
  {
   "cell_type": "code",
   "execution_count": 161,
   "metadata": {},
   "outputs": [
    {
     "ename": "AttributeError",
     "evalue": "'int' object has no attribute 'cuda'",
     "output_type": "error",
     "traceback": [
      "\u001b[0;31m---------------------------------------------------------------------------\u001b[0m",
      "\u001b[0;31mAttributeError\u001b[0m                            Traceback (most recent call last)",
      "\u001b[0;32m<ipython-input-161-b9f8a49d8c8d>\u001b[0m in \u001b[0;36m<module>\u001b[0;34m\u001b[0m\n\u001b[1;32m      4\u001b[0m     \u001b[0mnet\u001b[0m\u001b[0;34m.\u001b[0m\u001b[0meval\u001b[0m\u001b[0;34m(\u001b[0m\u001b[0;34m)\u001b[0m\u001b[0;34m\u001b[0m\u001b[0;34m\u001b[0m\u001b[0m\n\u001b[1;32m      5\u001b[0m     \u001b[0;32mfor\u001b[0m \u001b[0mimages\u001b[0m\u001b[0;34m,\u001b[0m \u001b[0mlabels\u001b[0m \u001b[0;32min\u001b[0m \u001b[0mtestset\u001b[0m\u001b[0;34m:\u001b[0m\u001b[0;34m\u001b[0m\u001b[0;34m\u001b[0m\u001b[0m\n\u001b[0;32m----> 6\u001b[0;31m         \u001b[0mimages\u001b[0m\u001b[0;34m,\u001b[0m \u001b[0mlabels\u001b[0m \u001b[0;34m=\u001b[0m \u001b[0mimages\u001b[0m\u001b[0;34m.\u001b[0m\u001b[0mcuda\u001b[0m\u001b[0;34m(\u001b[0m\u001b[0;34m)\u001b[0m\u001b[0;34m,\u001b[0m \u001b[0mlabels\u001b[0m\u001b[0;34m.\u001b[0m\u001b[0mcuda\u001b[0m\u001b[0;34m(\u001b[0m\u001b[0;34m)\u001b[0m\u001b[0;34m\u001b[0m\u001b[0;34m\u001b[0m\u001b[0m\n\u001b[0m\u001b[1;32m      7\u001b[0m         \u001b[0moutput\u001b[0m\u001b[0;34m,\u001b[0m \u001b[0m_\u001b[0m\u001b[0;34m=\u001b[0m\u001b[0mnet\u001b[0m\u001b[0;34m(\u001b[0m\u001b[0mimages\u001b[0m\u001b[0;34m)\u001b[0m\u001b[0;34m\u001b[0m\u001b[0;34m\u001b[0m\u001b[0m\n\u001b[1;32m      8\u001b[0m         \u001b[0mps\u001b[0m\u001b[0;34m=\u001b[0m\u001b[0mtorch\u001b[0m\u001b[0;34m.\u001b[0m\u001b[0mexp\u001b[0m\u001b[0;34m(\u001b[0m\u001b[0moutput\u001b[0m\u001b[0;34m)\u001b[0m\u001b[0;34m\u001b[0m\u001b[0;34m\u001b[0m\u001b[0m\n",
      "\u001b[0;31mAttributeError\u001b[0m: 'int' object has no attribute 'cuda'"
     ]
    }
   ],
   "source": [
    "accuracy=0\n",
    "\n",
    "with torch.no_grad():\n",
    "    net.eval()\n",
    "    for images, labels in testset:\n",
    "        images, labels = images.cuda(), labels.cuda()\n",
    "        output, _=net(images)\n",
    "        ps=torch.exp(output)\n",
    "        top_p, top_class=ps.topk(1, dim=1)\n",
    "\n",
    "        equals= top_class==labels.view(*top_class.shape)\n",
    "        accuracy+=torch.mean(equals.type(torch.FloatTensor))\n",
    "    \n",
    "print(\"Test Accuracy: {:.3f}\".format(accuracy/len(testset)))"
   ]
  },
  {
   "cell_type": "code",
   "execution_count": null,
   "metadata": {},
   "outputs": [],
   "source": []
  }
 ],
 "metadata": {
  "kernelspec": {
   "display_name": "Python 3",
   "language": "python",
   "name": "python3"
  },
  "language_info": {
   "codemirror_mode": {
    "name": "ipython",
    "version": 3
   },
   "file_extension": ".py",
   "mimetype": "text/x-python",
   "name": "python",
   "nbconvert_exporter": "python",
   "pygments_lexer": "ipython3",
   "version": "3.7.4"
  }
 },
 "nbformat": 4,
 "nbformat_minor": 4
}
